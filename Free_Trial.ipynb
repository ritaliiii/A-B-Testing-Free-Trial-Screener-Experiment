{
 "cells": [
  {
   "cell_type": "markdown",
   "id": "acad368d",
   "metadata": {},
   "source": [
    "# Load Packages"
   ]
  },
  {
   "cell_type": "code",
   "execution_count": 24,
   "id": "f4c06ade",
   "metadata": {},
   "outputs": [],
   "source": [
    "import pandas as pd\n",
    "import numpy as np\n",
    "import math as mt\n",
    "from scipy.stats import norm"
   ]
  },
  {
   "cell_type": "markdown",
   "id": "3bb2c53b",
   "metadata": {},
   "source": [
    "# Experiment Description"
   ]
  },
  {
   "cell_type": "markdown",
   "id": "5e479f7e",
   "metadata": {},
   "source": [
    "### \"Free Trial\" Screener Test"
   ]
  },
  {
   "cell_type": "markdown",
   "id": "7d4a31bc",
   "metadata": {
    "slideshow": {
     "slide_type": "slide"
    }
   },
   "source": [
    "##### Control\n",
    "\n",
    "* The website has two options on the overview page: \"start free trial\", and \"access materials\".\n",
    "* If the person clicks \"start free trial\", they will be asked to enter their credit card information, and then they will be enrolled in a free trial for the paid version. After 14 days, they will automatically be charged unless they cancel first.\n",
    "* If the person clicks \"access materials\", they will be able to view part of the content for free."
   ]
  },
  {
   "cell_type": "markdown",
   "id": "7606be6c",
   "metadata": {},
   "source": [
    "##### Experiment\n",
    "* If the person clicked \"start free trial\", they would get a pop up message reminding them the \"access meterials\" option would give them part of the content for free.\n",
    "* At this point, the person would have the option to continue enrolling in the free trial, or access the materials for free instead."
   ]
  },
  {
   "cell_type": "markdown",
   "id": "37997739",
   "metadata": {},
   "source": [
    "##### Hypothesis\n",
    "* This change would set clearer expectations upfront, thus reducing the number of frustrated people left the free trial without significantly reducing the number of people to continue past the free trial. If this hypothesis held true, it could improve the overall experience."
   ]
  },
  {
   "cell_type": "markdown",
   "id": "186cc5f3",
   "metadata": {},
   "source": [
    "# Define Metrics"
   ]
  },
  {
   "cell_type": "markdown",
   "id": "5983bba7",
   "metadata": {},
   "source": [
    "* Invariate metrics: used for \"sanity checks\", that is, to make sure our experiment is not inherently wrong. Basically, this means we pick metrics which we consider not to be affected because of our experiment and later make sure these metrics don't change drastically between our control and experiment groups.\n",
    "* Evaluation metrics: which we expect to see a change, and are relevant to the business goals we aim to achieve.\n",
    "* For each metric we state a __Minimum Change__ which is practically significant to the business. For instance, stating that any increase in retention that is under 2%, even if statistically significant, is not practical to the business."
   ]
  },
  {
   "cell_type": "markdown",
   "id": "0dd51e11",
   "metadata": {},
   "source": [
    "### Load Baseline Values"
   ]
  },
  {
   "cell_type": "code",
   "execution_count": 7,
   "id": "b8790d3f",
   "metadata": {
    "scrolled": true
   },
   "outputs": [
    {
     "data": {
      "text/html": [
       "<div>\n",
       "<style scoped>\n",
       "    .dataframe tbody tr th:only-of-type {\n",
       "        vertical-align: middle;\n",
       "    }\n",
       "\n",
       "    .dataframe tbody tr th {\n",
       "        vertical-align: top;\n",
       "    }\n",
       "\n",
       "    .dataframe thead th {\n",
       "        text-align: right;\n",
       "    }\n",
       "</style>\n",
       "<table border=\"1\" class=\"dataframe\">\n",
       "  <thead>\n",
       "    <tr style=\"text-align: right;\">\n",
       "      <th></th>\n",
       "      <th>metric</th>\n",
       "      <th>baseline_val</th>\n",
       "    </tr>\n",
       "  </thead>\n",
       "  <tbody>\n",
       "    <tr>\n",
       "      <th>0</th>\n",
       "      <td>unique cookies to view page per day:</td>\n",
       "      <td>40000.000000</td>\n",
       "    </tr>\n",
       "    <tr>\n",
       "      <th>1</th>\n",
       "      <td>unique cookies to click \"start free trial\" per...</td>\n",
       "      <td>3200.000000</td>\n",
       "    </tr>\n",
       "    <tr>\n",
       "      <th>2</th>\n",
       "      <td>enrollments per day:</td>\n",
       "      <td>660.000000</td>\n",
       "    </tr>\n",
       "    <tr>\n",
       "      <th>3</th>\n",
       "      <td>click-through-probability on \"start free trial\":</td>\n",
       "      <td>0.080000</td>\n",
       "    </tr>\n",
       "    <tr>\n",
       "      <th>4</th>\n",
       "      <td>probability of enrolling, given click:</td>\n",
       "      <td>0.206250</td>\n",
       "    </tr>\n",
       "    <tr>\n",
       "      <th>5</th>\n",
       "      <td>probability of payment, given enroll:</td>\n",
       "      <td>0.530000</td>\n",
       "    </tr>\n",
       "    <tr>\n",
       "      <th>6</th>\n",
       "      <td>probability of payment, given click</td>\n",
       "      <td>0.109313</td>\n",
       "    </tr>\n",
       "  </tbody>\n",
       "</table>\n",
       "</div>"
      ],
      "text/plain": [
       "                                              metric  baseline_val\n",
       "0               unique cookies to view page per day:  40000.000000\n",
       "1  unique cookies to click \"start free trial\" per...   3200.000000\n",
       "2                               enrollments per day:    660.000000\n",
       "3   click-through-probability on \"start free trial\":      0.080000\n",
       "4             probability of enrolling, given click:      0.206250\n",
       "5              probability of payment, given enroll:      0.530000\n",
       "6                probability of payment, given click      0.109313"
      ]
     },
     "execution_count": 7,
     "metadata": {},
     "output_type": "execute_result"
    }
   ],
   "source": [
    "df_basevals = pd.read_csv(\"baseline_vals.csv\", index_col=False,header = None, names = ['metric','baseline_val'])\n",
    "df_basevals.metric = df_basevals.metric.map(lambda x: x.lower())\n",
    "df_basevals"
   ]
  },
  {
   "cell_type": "markdown",
   "id": "f5bd27c4",
   "metadata": {},
   "source": [
    "##### Invariate Metrics\n",
    "* Number of Cookies in Overview Page\n",
    "* Number of Clicks on Free Trial Button\n",
    "* Free Trial button Click-Through-Probability"
   ]
  },
  {
   "cell_type": "markdown",
   "id": "a907d8ae",
   "metadata": {},
   "source": [
    "##### Evaluation Metrics\n",
    "* Gross Convertion - #enrolled/#clicked\n",
    "* Net Convertion - #paid/#clicked\n",
    "* Retention - #paid/#enrolled"
   ]
  },
  {
   "cell_type": "markdown",
   "id": "a8c2d22c",
   "metadata": {},
   "source": [
    "### Check Standard Deviation"
   ]
  },
  {
   "cell_type": "markdown",
   "id": "3addd37d",
   "metadata": {},
   "source": [
    "* We should estimate the standard deviation of each evaluation metric. The more variant a metric is, the harder it is to reach a significant result. \n",
    "* The sample size we are considering should be smaller than the total population we collected and small enough to have two groups with that size."
   ]
  },
  {
   "cell_type": "code",
   "execution_count": 15,
   "id": "9ccea1da",
   "metadata": {},
   "outputs": [
    {
     "name": "stdout",
     "output_type": "stream",
     "text": [
      "std for Gross Conversion: 0.0143 \n",
      "std for Net Conversion: 0.011 \n",
      "std for Retention: 0.0389\n"
     ]
    }
   ],
   "source": [
    "# Assume we want 10000 page views (out of 40000 page views) per day in each group\n",
    "\n",
    "def check_std(probability,sample_size):\n",
    "    return round(np.sqrt((probability*(1-probability))/sample_size),4)\n",
    "\n",
    "\n",
    "GC_probability = 0.206250\n",
    "GC_sample_size = 10000*(3200/40000)\n",
    "\n",
    "NC_probability = 0.109313\n",
    "NC_sample_size = 10000*(3200/40000)\n",
    "\n",
    "R_probability = 0.530000\n",
    "R_sample_size = 10000*(660/40000)\n",
    "\n",
    "\n",
    "GC_std = check_std(GC_probability,GC_sample_size)\n",
    "NC_std = check_std(NC_probability,NC_sample_size)\n",
    "R_std = check_std(R_probability,R_sample_size)\n",
    "\n",
    "print('std for Gross Conversion:',GC_std,'\\n'\n",
    "      'std for Net Conversion:',NC_std,'\\n'\n",
    "      'std for Retention:',R_std)\n"
   ]
  },
  {
   "cell_type": "markdown",
   "id": "6aa8296b",
   "metadata": {},
   "source": [
    "# Calculate Smaple Size and Test Duration"
   ]
  },
  {
   "cell_type": "markdown",
   "id": "a085b70b",
   "metadata": {},
   "source": [
    "* Significance level α=0.05\n",
    "* Power β=0.2\n",
    "* Minimum detectable effect: Gross Conversion (1%), Retention (1%), Net Conversion (0.75%)\n",
    "\n",
    "* We can calculate the sample size using the online calculator here: https://www.evanmiller.org/ab-testing/sample-size.html or use our defined function"
   ]
  },
  {
   "cell_type": "code",
   "execution_count": 18,
   "id": "1c294c74",
   "metadata": {},
   "outputs": [],
   "source": [
    "# p - probability (conversion rate), d - minimum detectable effect\n",
    "\n",
    "def get_sampsize(p,d,alpha,beta):\n",
    "    \n",
    "    sd1=mt.sqrt(2*p*(1-p))\n",
    "    sd2=mt.sqrt(p*(1-p)+(p+d)*(1-(p+d)))\n",
    "    \n",
    "    z_score1 = norm.ppf(1-alpha/2)\n",
    "    z_score2 = norm.ppf(1-beta)\n",
    "    \n",
    "    n=pow((z_score1*sd1+z_score2*sd2),2)/pow(d,2)\n",
    "    return n"
   ]
  },
  {
   "cell_type": "code",
   "execution_count": 25,
   "id": "57ef9f24",
   "metadata": {},
   "outputs": [
    {
     "name": "stdout",
     "output_type": "stream",
     "text": [
      "#clicks for Gross Conversion: 25835.0 \n",
      "#clicks for Net Conversion: 27413.0 \n",
      "#enrolled for Retention: 39087.0 \n",
      "\n",
      "#page views for Gross Conversion: 645868.0 \n",
      "#page views for Net Conversion: 685336.0 \n",
      "#page views for Retention: 4737771.0\n"
     ]
    }
   ],
   "source": [
    "GC_dmin = 0.01\n",
    "NC_dmin = 0.0075\n",
    "R_dmin = 0.01\n",
    "\n",
    "GC_size = get_sampsize(GC_probability,GC_dmin,0.05,0.2)\n",
    "NC_size = get_sampsize(NC_probability,NC_dmin,0.05,0.2)\n",
    "R_size = get_sampsize(R_probability,R_dmin,0.05,0.2)\n",
    "\n",
    "print('#clicks for Gross Conversion:',round(GC_size,0),'\\n'\n",
    "      '#clicks for Net Conversion:',round(NC_size,0),'\\n'\n",
    "      '#enrolled for Retention:',round(R_size,0),'\\n')\n",
    "\n",
    "print('#page views for Gross Conversion:',round(GC_size/(3200/40000)*2,0),'\\n'\n",
    "      '#page views for Net Conversion:',round(NC_size/(3200/40000)*2,0),'\\n'\n",
    "      '#page views for Retention:',round(R_size/(3200/40000)/0.20625*2,0))\n"
   ]
  },
  {
   "cell_type": "markdown",
   "id": "deac1ddf",
   "metadata": {},
   "source": [
    "Given we have 40000 page views per day, if we want to use 100% of traffic \n",
    "- Gross Conversion: 16.1 days\n",
    "- Net Conversion: 17.1 days\n",
    "- Retention: 118 days\n",
    "\n",
    "118 days is too long for a test, so we have to give up retention, and only focus on GC and NC; It is also risky to use all 100% of traffic, so we're going to use 50% of the traffic, which gives us the duration of \n",
    "- Gross Conversion: 33 days\n",
    "- Net Conversion: 35 days "
   ]
  },
  {
   "cell_type": "markdown",
   "id": "f2eaaefa",
   "metadata": {},
   "source": [
    "# Experiment Analysis"
   ]
  },
  {
   "cell_type": "markdown",
   "id": "8303f0f4",
   "metadata": {},
   "source": [
    "### Load and Inspect data"
   ]
  },
  {
   "cell_type": "code",
   "execution_count": 28,
   "id": "628713ea",
   "metadata": {},
   "outputs": [
    {
     "data": {
      "text/html": [
       "<div>\n",
       "<style scoped>\n",
       "    .dataframe tbody tr th:only-of-type {\n",
       "        vertical-align: middle;\n",
       "    }\n",
       "\n",
       "    .dataframe tbody tr th {\n",
       "        vertical-align: top;\n",
       "    }\n",
       "\n",
       "    .dataframe thead th {\n",
       "        text-align: right;\n",
       "    }\n",
       "</style>\n",
       "<table border=\"1\" class=\"dataframe\">\n",
       "  <thead>\n",
       "    <tr style=\"text-align: right;\">\n",
       "      <th></th>\n",
       "      <th>Date</th>\n",
       "      <th>Pageviews</th>\n",
       "      <th>Clicks</th>\n",
       "      <th>Enrollments</th>\n",
       "      <th>Payments</th>\n",
       "    </tr>\n",
       "  </thead>\n",
       "  <tbody>\n",
       "    <tr>\n",
       "      <th>0</th>\n",
       "      <td>Sat, Oct 11</td>\n",
       "      <td>7716</td>\n",
       "      <td>686</td>\n",
       "      <td>105.0</td>\n",
       "      <td>34.0</td>\n",
       "    </tr>\n",
       "    <tr>\n",
       "      <th>1</th>\n",
       "      <td>Sun, Oct 12</td>\n",
       "      <td>9288</td>\n",
       "      <td>785</td>\n",
       "      <td>116.0</td>\n",
       "      <td>91.0</td>\n",
       "    </tr>\n",
       "    <tr>\n",
       "      <th>2</th>\n",
       "      <td>Mon, Oct 13</td>\n",
       "      <td>10480</td>\n",
       "      <td>884</td>\n",
       "      <td>145.0</td>\n",
       "      <td>79.0</td>\n",
       "    </tr>\n",
       "    <tr>\n",
       "      <th>3</th>\n",
       "      <td>Tue, Oct 14</td>\n",
       "      <td>9867</td>\n",
       "      <td>827</td>\n",
       "      <td>138.0</td>\n",
       "      <td>92.0</td>\n",
       "    </tr>\n",
       "    <tr>\n",
       "      <th>4</th>\n",
       "      <td>Wed, Oct 15</td>\n",
       "      <td>9793</td>\n",
       "      <td>832</td>\n",
       "      <td>140.0</td>\n",
       "      <td>94.0</td>\n",
       "    </tr>\n",
       "  </tbody>\n",
       "</table>\n",
       "</div>"
      ],
      "text/plain": [
       "          Date  Pageviews  Clicks  Enrollments  Payments\n",
       "0  Sat, Oct 11       7716     686        105.0      34.0\n",
       "1  Sun, Oct 12       9288     785        116.0      91.0\n",
       "2  Mon, Oct 13      10480     884        145.0      79.0\n",
       "3  Tue, Oct 14       9867     827        138.0      92.0\n",
       "4  Wed, Oct 15       9793     832        140.0      94.0"
      ]
     },
     "execution_count": 28,
     "metadata": {},
     "output_type": "execute_result"
    }
   ],
   "source": [
    "control=pd.read_csv(\"Final Project Results - Control.csv\")\n",
    "experiment=pd.read_csv(\"Final Project Results - Experiment.csv\")\n",
    "experiment.head()"
   ]
  },
  {
   "cell_type": "code",
   "execution_count": 39,
   "id": "c4b1531f",
   "metadata": {},
   "outputs": [
    {
     "data": {
      "text/html": [
       "<div>\n",
       "<style scoped>\n",
       "    .dataframe tbody tr th:only-of-type {\n",
       "        vertical-align: middle;\n",
       "    }\n",
       "\n",
       "    .dataframe tbody tr th {\n",
       "        vertical-align: top;\n",
       "    }\n",
       "\n",
       "    .dataframe thead th {\n",
       "        text-align: right;\n",
       "    }\n",
       "</style>\n",
       "<table border=\"1\" class=\"dataframe\">\n",
       "  <thead>\n",
       "    <tr style=\"text-align: right;\">\n",
       "      <th></th>\n",
       "      <th>Pageviews</th>\n",
       "      <th>Clicks</th>\n",
       "      <th>Enrollments</th>\n",
       "      <th>Payments</th>\n",
       "    </tr>\n",
       "  </thead>\n",
       "  <tbody>\n",
       "    <tr>\n",
       "      <th>count</th>\n",
       "      <td>37.000000</td>\n",
       "      <td>37.000000</td>\n",
       "      <td>23.000000</td>\n",
       "      <td>23.000000</td>\n",
       "    </tr>\n",
       "    <tr>\n",
       "      <th>mean</th>\n",
       "      <td>9315.135135</td>\n",
       "      <td>765.540541</td>\n",
       "      <td>148.826087</td>\n",
       "      <td>84.565217</td>\n",
       "    </tr>\n",
       "    <tr>\n",
       "      <th>std</th>\n",
       "      <td>708.070781</td>\n",
       "      <td>64.578374</td>\n",
       "      <td>33.234227</td>\n",
       "      <td>23.060841</td>\n",
       "    </tr>\n",
       "    <tr>\n",
       "      <th>min</th>\n",
       "      <td>7664.000000</td>\n",
       "      <td>642.000000</td>\n",
       "      <td>94.000000</td>\n",
       "      <td>34.000000</td>\n",
       "    </tr>\n",
       "    <tr>\n",
       "      <th>25%</th>\n",
       "      <td>8881.000000</td>\n",
       "      <td>722.000000</td>\n",
       "      <td>127.000000</td>\n",
       "      <td>69.000000</td>\n",
       "    </tr>\n",
       "    <tr>\n",
       "      <th>50%</th>\n",
       "      <td>9359.000000</td>\n",
       "      <td>770.000000</td>\n",
       "      <td>142.000000</td>\n",
       "      <td>91.000000</td>\n",
       "    </tr>\n",
       "    <tr>\n",
       "      <th>75%</th>\n",
       "      <td>9737.000000</td>\n",
       "      <td>827.000000</td>\n",
       "      <td>172.000000</td>\n",
       "      <td>99.000000</td>\n",
       "    </tr>\n",
       "    <tr>\n",
       "      <th>max</th>\n",
       "      <td>10551.000000</td>\n",
       "      <td>884.000000</td>\n",
       "      <td>213.000000</td>\n",
       "      <td>123.000000</td>\n",
       "    </tr>\n",
       "  </tbody>\n",
       "</table>\n",
       "</div>"
      ],
      "text/plain": [
       "          Pageviews      Clicks  Enrollments    Payments\n",
       "count     37.000000   37.000000    23.000000   23.000000\n",
       "mean    9315.135135  765.540541   148.826087   84.565217\n",
       "std      708.070781   64.578374    33.234227   23.060841\n",
       "min     7664.000000  642.000000    94.000000   34.000000\n",
       "25%     8881.000000  722.000000   127.000000   69.000000\n",
       "50%     9359.000000  770.000000   142.000000   91.000000\n",
       "75%     9737.000000  827.000000   172.000000   99.000000\n",
       "max    10551.000000  884.000000   213.000000  123.000000"
      ]
     },
     "execution_count": 39,
     "metadata": {},
     "output_type": "execute_result"
    }
   ],
   "source": [
    "experiment.describe()"
   ]
  },
  {
   "cell_type": "code",
   "execution_count": 40,
   "id": "f4137aec",
   "metadata": {},
   "outputs": [
    {
     "data": {
      "text/html": [
       "<div>\n",
       "<style scoped>\n",
       "    .dataframe tbody tr th:only-of-type {\n",
       "        vertical-align: middle;\n",
       "    }\n",
       "\n",
       "    .dataframe tbody tr th {\n",
       "        vertical-align: top;\n",
       "    }\n",
       "\n",
       "    .dataframe thead th {\n",
       "        text-align: right;\n",
       "    }\n",
       "</style>\n",
       "<table border=\"1\" class=\"dataframe\">\n",
       "  <thead>\n",
       "    <tr style=\"text-align: right;\">\n",
       "      <th></th>\n",
       "      <th>Pageviews</th>\n",
       "      <th>Clicks</th>\n",
       "      <th>Enrollments</th>\n",
       "      <th>Payments</th>\n",
       "    </tr>\n",
       "  </thead>\n",
       "  <tbody>\n",
       "    <tr>\n",
       "      <th>count</th>\n",
       "      <td>37.000000</td>\n",
       "      <td>37.000000</td>\n",
       "      <td>23.000000</td>\n",
       "      <td>23.000000</td>\n",
       "    </tr>\n",
       "    <tr>\n",
       "      <th>mean</th>\n",
       "      <td>9339.000000</td>\n",
       "      <td>766.972973</td>\n",
       "      <td>164.565217</td>\n",
       "      <td>88.391304</td>\n",
       "    </tr>\n",
       "    <tr>\n",
       "      <th>std</th>\n",
       "      <td>740.239563</td>\n",
       "      <td>68.286767</td>\n",
       "      <td>29.977000</td>\n",
       "      <td>20.650202</td>\n",
       "    </tr>\n",
       "    <tr>\n",
       "      <th>min</th>\n",
       "      <td>7434.000000</td>\n",
       "      <td>632.000000</td>\n",
       "      <td>110.000000</td>\n",
       "      <td>56.000000</td>\n",
       "    </tr>\n",
       "    <tr>\n",
       "      <th>25%</th>\n",
       "      <td>8896.000000</td>\n",
       "      <td>708.000000</td>\n",
       "      <td>146.500000</td>\n",
       "      <td>70.000000</td>\n",
       "    </tr>\n",
       "    <tr>\n",
       "      <th>50%</th>\n",
       "      <td>9420.000000</td>\n",
       "      <td>759.000000</td>\n",
       "      <td>162.000000</td>\n",
       "      <td>91.000000</td>\n",
       "    </tr>\n",
       "    <tr>\n",
       "      <th>75%</th>\n",
       "      <td>9871.000000</td>\n",
       "      <td>825.000000</td>\n",
       "      <td>175.000000</td>\n",
       "      <td>102.500000</td>\n",
       "    </tr>\n",
       "    <tr>\n",
       "      <th>max</th>\n",
       "      <td>10667.000000</td>\n",
       "      <td>909.000000</td>\n",
       "      <td>233.000000</td>\n",
       "      <td>128.000000</td>\n",
       "    </tr>\n",
       "  </tbody>\n",
       "</table>\n",
       "</div>"
      ],
      "text/plain": [
       "          Pageviews      Clicks  Enrollments    Payments\n",
       "count     37.000000   37.000000    23.000000   23.000000\n",
       "mean    9339.000000  766.972973   164.565217   88.391304\n",
       "std      740.239563   68.286767    29.977000   20.650202\n",
       "min     7434.000000  632.000000   110.000000   56.000000\n",
       "25%     8896.000000  708.000000   146.500000   70.000000\n",
       "50%     9420.000000  759.000000   162.000000   91.000000\n",
       "75%     9871.000000  825.000000   175.000000  102.500000\n",
       "max    10667.000000  909.000000   233.000000  128.000000"
      ]
     },
     "execution_count": 40,
     "metadata": {},
     "output_type": "execute_result"
    }
   ],
   "source": [
    "control.describe()"
   ]
  },
  {
   "cell_type": "code",
   "execution_count": 47,
   "id": "d369b8e8",
   "metadata": {},
   "outputs": [],
   "source": [
    "# experiment.isnull().sum()\n",
    "# control.isnull().sum()\n",
    "\n",
    "control_notnull = control[(pd.isnull(control.Enrollments) != True)&(pd.isnull(control.Payments) != True)]\n",
    "experiment_notnull = experiment[(pd.isnull(experiment.Enrollments) != True)&(pd.isnull(experiment.Payments) != True)]"
   ]
  },
  {
   "cell_type": "markdown",
   "id": "9dc43469",
   "metadata": {},
   "source": [
    "### Sanity Check"
   ]
  },
  {
   "cell_type": "code",
   "execution_count": 35,
   "id": "d7a3d6ff",
   "metadata": {},
   "outputs": [
    {
     "name": "stdout",
     "output_type": "stream",
     "text": [
      "Total Pageviews: \n",
      " \n",
      " Experiment: 344660 \n",
      " Control: 345543 \n",
      " \n",
      "Total Clicks: \n",
      " \n",
      " Experiment: 28325 \n",
      " Control: 28378 \n",
      " \n",
      "Total CTP: \n",
      " \n",
      " Experiment: 0.08218244066616376 \n",
      " Control: 0.08212581357457682\n"
     ]
    }
   ],
   "source": [
    "# Number of Cookies in Overview Page\n",
    "# Number of Clicks on Free Trial Button\n",
    "# Click-Through-Probability\n",
    "\n",
    "print('Total Pageviews:','\\n','\\n',\n",
    "      'Experiment:',experiment.Pageviews.sum(),'\\n',\n",
    "      'Control:',control.Pageviews.sum(),'\\n','\\n'\n",
    "      'Total Clicks:','\\n','\\n',\n",
    "      'Experiment:',experiment.Clicks.sum(),'\\n',\n",
    "      'Control:',control.Clicks.sum(),'\\n','\\n'\n",
    "      'Total CTP:','\\n','\\n',\n",
    "      'Experiment:',experiment.Clicks.sum()/experiment.Pageviews.sum(),'\\n',\n",
    "      'Control:',control.Clicks.sum()/control.Pageviews.sum())"
   ]
  },
  {
   "cell_type": "markdown",
   "id": "0a1d7165",
   "metadata": {},
   "source": [
    "### Calculate Evaluation Metrics"
   ]
  },
  {
   "cell_type": "code",
   "execution_count": 48,
   "id": "97c5e0c2",
   "metadata": {},
   "outputs": [],
   "source": [
    "GC_exp = experiment_notnull.Enrollments.sum()/experiment_notnull.Clicks.sum()\n",
    "NC_exp = experiment_notnull.Payments.sum()/experiment_notnull.Clicks.sum()\n",
    "GC_cont = control_notnull.Enrollments.sum()/control_notnull.Clicks.sum()\n",
    "NC_cont = control_notnull.Payments.sum()/control_notnull.Clicks.sum()\n",
    "\n",
    "GC = (experiment_notnull.Enrollments.sum() + control_notnull.Enrollments.sum())/(experiment_notnull.Clicks.sum() + control_notnull.Clicks.sum())\n",
    "NC = (experiment_notnull.Payments.sum() + control_notnull.Payments.sum())/(experiment_notnull.Clicks.sum() + control_notnull.Clicks.sum())\n"
   ]
  },
  {
   "cell_type": "code",
   "execution_count": 50,
   "id": "1e1dd95f",
   "metadata": {},
   "outputs": [
    {
     "name": "stdout",
     "output_type": "stream",
     "text": [
      "Gross Conversion Difference:  -0.020554874580361565 \n",
      "Net Conversion Difference:  -0.0048737226745441675\n"
     ]
    }
   ],
   "source": [
    "GC_diff = GC_exp - GC_cont\n",
    "NC_diff = NC_exp - NC_cont\n",
    "\n",
    "print('Gross Conversion Difference: ', GC_diff,'\\n'\n",
    "     'Net Conversion Difference: ', NC_diff)"
   ]
  },
  {
   "cell_type": "code",
   "execution_count": 52,
   "id": "a8c9a3c2",
   "metadata": {},
   "outputs": [],
   "source": [
    "def stats_prop(p_hat,z_score,N_cont,N_exp,diff):\n",
    "    std_err = np.sqrt((p_hat * (1- p_hat ))*(1/N_cont + 1/N_exp))\n",
    "    marg_err = z_score * std_err\n",
    "    ci_lower = diff - marg_err\n",
    "    ci_upper = diff + marg_err\n",
    "    \n",
    "    return std_err,marg_err,ci_lower,ci_upper"
   ]
  },
  {
   "cell_type": "code",
   "execution_count": 53,
   "id": "ce8e2aeb",
   "metadata": {},
   "outputs": [
    {
     "data": {
      "text/plain": [
       "(0.004371675385225936,\n",
       " 0.008568483755042836,\n",
       " -0.0291233583354044,\n",
       " -0.01198639082531873)"
      ]
     },
     "execution_count": 53,
     "metadata": {},
     "output_type": "execute_result"
    }
   ],
   "source": [
    "stats_prop(GC,1.96,control_notnull.Clicks.sum(),experiment_notnull.Clicks.sum(),GC_diff)"
   ]
  },
  {
   "cell_type": "code",
   "execution_count": 55,
   "id": "7ef1118b",
   "metadata": {},
   "outputs": [
    {
     "data": {
      "text/plain": [
       "(0.0034341335129324238,\n",
       " 0.0067309016853475505,\n",
       " -0.011604624359891718,\n",
       " 0.001857179010803383)"
      ]
     },
     "execution_count": 55,
     "metadata": {},
     "output_type": "execute_result"
    }
   ],
   "source": [
    "stats_prop(NC,1.96,control_notnull.Clicks.sum(),experiment_notnull.Clicks.sum(),NC_diff)"
   ]
  },
  {
   "cell_type": "code",
   "execution_count": 58,
   "id": "92cb99ce",
   "metadata": {},
   "outputs": [
    {
     "data": {
      "text/plain": [
       "(-4.701830023753982, 2.578401033720593e-06)"
      ]
     },
     "execution_count": 58,
     "metadata": {},
     "output_type": "execute_result"
    }
   ],
   "source": [
    "import statsmodels.api as sm\n",
    "sm.stats.proportions_ztest([experiment_notnull.Enrollments.sum(), control_notnull.Enrollments.sum()], \n",
    "                           [experiment_notnull.Clicks.sum(), control_notnull.Clicks.sum()], \n",
    "                           alternative='two-sided')"
   ]
  },
  {
   "cell_type": "code",
   "execution_count": 59,
   "id": "3e87f473",
   "metadata": {},
   "outputs": [
    {
     "data": {
      "text/plain": [
       "(-1.4192001144365733, 0.15584068262150205)"
      ]
     },
     "execution_count": 59,
     "metadata": {},
     "output_type": "execute_result"
    }
   ],
   "source": [
    "sm.stats.proportions_ztest([experiment_notnull.Payments.sum(), control_notnull.Payments.sum()], \n",
    "                           [experiment_notnull.Clicks.sum(), control_notnull.Clicks.sum()], \n",
    "                           alternative='two-sided')"
   ]
  },
  {
   "cell_type": "markdown",
   "id": "dbed7dda",
   "metadata": {},
   "source": [
    "# Summary & Recommendations"
   ]
  },
  {
   "cell_type": "markdown",
   "id": "7b31c7f3",
   "metadata": {},
   "source": [
    "The test showed that, at the 95% CI, the difference in gross conversion is statistically signficant and also practically signficant. However, the net conversion is neither statistically nor practically signficant at the 95% CI. This means if we remind and filter out people and try to provide a better user experience, it won't lead to a higher payment rate, thus, we don't recommend launching the new feature."
   ]
  },
  {
   "cell_type": "code",
   "execution_count": null,
   "id": "e3d2bb11",
   "metadata": {},
   "outputs": [],
   "source": []
  }
 ],
 "metadata": {
  "celltoolbar": "Slideshow",
  "kernelspec": {
   "display_name": "Python 3 (ipykernel)",
   "language": "python",
   "name": "python3"
  },
  "language_info": {
   "codemirror_mode": {
    "name": "ipython",
    "version": 3
   },
   "file_extension": ".py",
   "mimetype": "text/x-python",
   "name": "python",
   "nbconvert_exporter": "python",
   "pygments_lexer": "ipython3",
   "version": "3.9.7"
  }
 },
 "nbformat": 4,
 "nbformat_minor": 5
}
